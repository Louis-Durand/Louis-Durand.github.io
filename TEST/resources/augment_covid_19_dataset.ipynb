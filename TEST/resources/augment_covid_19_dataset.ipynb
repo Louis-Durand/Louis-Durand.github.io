{
 "cells": [
  {
   "cell_type": "code",
   "execution_count": 1,
   "metadata": {
    "collapsed": true,
    "pycharm": {
     "name": "#%%\n"
    }
   },
   "outputs": [],
   "source": [
    "import pandas as pd"
   ]
  },
  {
   "cell_type": "code",
   "execution_count": 2,
   "outputs": [],
   "source": [
    "data = pd.read_csv(\"covid_19_data.csv\", index_col=0)"
   ],
   "metadata": {
    "collapsed": false,
    "pycharm": {
     "name": "#%%\n"
    }
   }
  },
  {
   "cell_type": "code",
   "execution_count": 3,
   "outputs": [
    {
     "data": {
      "text/plain": "    ObservationDate Province/State  Country/Region      Last Update  \\\nSNo                                                                   \n1        01/22/2020          Anhui  Mainland China  1/22/2020 17:00   \n2        01/22/2020        Beijing  Mainland China  1/22/2020 17:00   \n3        01/22/2020      Chongqing  Mainland China  1/22/2020 17:00   \n4        01/22/2020         Fujian  Mainland China  1/22/2020 17:00   \n5        01/22/2020          Gansu  Mainland China  1/22/2020 17:00   \n\n     Confirmed  Deaths  Recovered  \nSNo                                \n1          1.0     0.0        0.0  \n2         14.0     0.0        0.0  \n3          6.0     0.0        0.0  \n4          1.0     0.0        0.0  \n5          0.0     0.0        0.0  ",
      "text/html": "<div>\n<style scoped>\n    .dataframe tbody tr th:only-of-type {\n        vertical-align: middle;\n    }\n\n    .dataframe tbody tr th {\n        vertical-align: top;\n    }\n\n    .dataframe thead th {\n        text-align: right;\n    }\n</style>\n<table border=\"1\" class=\"dataframe\">\n  <thead>\n    <tr style=\"text-align: right;\">\n      <th></th>\n      <th>ObservationDate</th>\n      <th>Province/State</th>\n      <th>Country/Region</th>\n      <th>Last Update</th>\n      <th>Confirmed</th>\n      <th>Deaths</th>\n      <th>Recovered</th>\n    </tr>\n    <tr>\n      <th>SNo</th>\n      <th></th>\n      <th></th>\n      <th></th>\n      <th></th>\n      <th></th>\n      <th></th>\n      <th></th>\n    </tr>\n  </thead>\n  <tbody>\n    <tr>\n      <th>1</th>\n      <td>01/22/2020</td>\n      <td>Anhui</td>\n      <td>Mainland China</td>\n      <td>1/22/2020 17:00</td>\n      <td>1.0</td>\n      <td>0.0</td>\n      <td>0.0</td>\n    </tr>\n    <tr>\n      <th>2</th>\n      <td>01/22/2020</td>\n      <td>Beijing</td>\n      <td>Mainland China</td>\n      <td>1/22/2020 17:00</td>\n      <td>14.0</td>\n      <td>0.0</td>\n      <td>0.0</td>\n    </tr>\n    <tr>\n      <th>3</th>\n      <td>01/22/2020</td>\n      <td>Chongqing</td>\n      <td>Mainland China</td>\n      <td>1/22/2020 17:00</td>\n      <td>6.0</td>\n      <td>0.0</td>\n      <td>0.0</td>\n    </tr>\n    <tr>\n      <th>4</th>\n      <td>01/22/2020</td>\n      <td>Fujian</td>\n      <td>Mainland China</td>\n      <td>1/22/2020 17:00</td>\n      <td>1.0</td>\n      <td>0.0</td>\n      <td>0.0</td>\n    </tr>\n    <tr>\n      <th>5</th>\n      <td>01/22/2020</td>\n      <td>Gansu</td>\n      <td>Mainland China</td>\n      <td>1/22/2020 17:00</td>\n      <td>0.0</td>\n      <td>0.0</td>\n      <td>0.0</td>\n    </tr>\n  </tbody>\n</table>\n</div>"
     },
     "execution_count": 3,
     "metadata": {},
     "output_type": "execute_result"
    }
   ],
   "source": [
    "data.head()"
   ],
   "metadata": {
    "collapsed": false,
    "pycharm": {
     "name": "#%%\n"
    }
   }
  },
  {
   "cell_type": "code",
   "execution_count": 4,
   "outputs": [],
   "source": [
    "data.Confirmed = data.Confirmed.map(lambda x: int(x))\n",
    "data.Deaths = data.Deaths.map(lambda x: int(x))\n",
    "data.Recovered = data.Recovered.map(lambda x: int(x))"
   ],
   "metadata": {
    "collapsed": false,
    "pycharm": {
     "name": "#%%\n"
    }
   }
  },
  {
   "cell_type": "code",
   "execution_count": 5,
   "outputs": [
    {
     "data": {
      "text/plain": "    ObservationDate Province/State  Country/Region      Last Update  \\\nSNo                                                                   \n1        01/22/2020          Anhui  Mainland China  1/22/2020 17:00   \n2        01/22/2020        Beijing  Mainland China  1/22/2020 17:00   \n3        01/22/2020      Chongqing  Mainland China  1/22/2020 17:00   \n4        01/22/2020         Fujian  Mainland China  1/22/2020 17:00   \n5        01/22/2020          Gansu  Mainland China  1/22/2020 17:00   \n\n     Confirmed  Deaths  Recovered  \nSNo                                \n1            1       0          0  \n2           14       0          0  \n3            6       0          0  \n4            1       0          0  \n5            0       0          0  ",
      "text/html": "<div>\n<style scoped>\n    .dataframe tbody tr th:only-of-type {\n        vertical-align: middle;\n    }\n\n    .dataframe tbody tr th {\n        vertical-align: top;\n    }\n\n    .dataframe thead th {\n        text-align: right;\n    }\n</style>\n<table border=\"1\" class=\"dataframe\">\n  <thead>\n    <tr style=\"text-align: right;\">\n      <th></th>\n      <th>ObservationDate</th>\n      <th>Province/State</th>\n      <th>Country/Region</th>\n      <th>Last Update</th>\n      <th>Confirmed</th>\n      <th>Deaths</th>\n      <th>Recovered</th>\n    </tr>\n    <tr>\n      <th>SNo</th>\n      <th></th>\n      <th></th>\n      <th></th>\n      <th></th>\n      <th></th>\n      <th></th>\n      <th></th>\n    </tr>\n  </thead>\n  <tbody>\n    <tr>\n      <th>1</th>\n      <td>01/22/2020</td>\n      <td>Anhui</td>\n      <td>Mainland China</td>\n      <td>1/22/2020 17:00</td>\n      <td>1</td>\n      <td>0</td>\n      <td>0</td>\n    </tr>\n    <tr>\n      <th>2</th>\n      <td>01/22/2020</td>\n      <td>Beijing</td>\n      <td>Mainland China</td>\n      <td>1/22/2020 17:00</td>\n      <td>14</td>\n      <td>0</td>\n      <td>0</td>\n    </tr>\n    <tr>\n      <th>3</th>\n      <td>01/22/2020</td>\n      <td>Chongqing</td>\n      <td>Mainland China</td>\n      <td>1/22/2020 17:00</td>\n      <td>6</td>\n      <td>0</td>\n      <td>0</td>\n    </tr>\n    <tr>\n      <th>4</th>\n      <td>01/22/2020</td>\n      <td>Fujian</td>\n      <td>Mainland China</td>\n      <td>1/22/2020 17:00</td>\n      <td>1</td>\n      <td>0</td>\n      <td>0</td>\n    </tr>\n    <tr>\n      <th>5</th>\n      <td>01/22/2020</td>\n      <td>Gansu</td>\n      <td>Mainland China</td>\n      <td>1/22/2020 17:00</td>\n      <td>0</td>\n      <td>0</td>\n      <td>0</td>\n    </tr>\n  </tbody>\n</table>\n</div>"
     },
     "execution_count": 5,
     "metadata": {},
     "output_type": "execute_result"
    }
   ],
   "source": [
    "data.head()"
   ],
   "metadata": {
    "collapsed": false,
    "pycharm": {
     "name": "#%%\n"
    }
   }
  },
  {
   "cell_type": "code",
   "execution_count": 6,
   "outputs": [],
   "source": [
    "data.columns = [\"date\", \"state\", \"country\", \"last_update\", \"confirmed\", \"deaths\", \"recovered\"]"
   ],
   "metadata": {
    "collapsed": false,
    "pycharm": {
     "name": "#%%\n"
    }
   }
  },
  {
   "cell_type": "code",
   "execution_count": 7,
   "outputs": [
    {
     "data": {
      "text/plain": "           date      state         country      last_update  confirmed  \\\nSNo                                                                      \n1    01/22/2020      Anhui  Mainland China  1/22/2020 17:00          1   \n2    01/22/2020    Beijing  Mainland China  1/22/2020 17:00         14   \n3    01/22/2020  Chongqing  Mainland China  1/22/2020 17:00          6   \n4    01/22/2020     Fujian  Mainland China  1/22/2020 17:00          1   \n5    01/22/2020      Gansu  Mainland China  1/22/2020 17:00          0   \n\n     deaths  recovered  \nSNo                     \n1         0          0  \n2         0          0  \n3         0          0  \n4         0          0  \n5         0          0  ",
      "text/html": "<div>\n<style scoped>\n    .dataframe tbody tr th:only-of-type {\n        vertical-align: middle;\n    }\n\n    .dataframe tbody tr th {\n        vertical-align: top;\n    }\n\n    .dataframe thead th {\n        text-align: right;\n    }\n</style>\n<table border=\"1\" class=\"dataframe\">\n  <thead>\n    <tr style=\"text-align: right;\">\n      <th></th>\n      <th>date</th>\n      <th>state</th>\n      <th>country</th>\n      <th>last_update</th>\n      <th>confirmed</th>\n      <th>deaths</th>\n      <th>recovered</th>\n    </tr>\n    <tr>\n      <th>SNo</th>\n      <th></th>\n      <th></th>\n      <th></th>\n      <th></th>\n      <th></th>\n      <th></th>\n      <th></th>\n    </tr>\n  </thead>\n  <tbody>\n    <tr>\n      <th>1</th>\n      <td>01/22/2020</td>\n      <td>Anhui</td>\n      <td>Mainland China</td>\n      <td>1/22/2020 17:00</td>\n      <td>1</td>\n      <td>0</td>\n      <td>0</td>\n    </tr>\n    <tr>\n      <th>2</th>\n      <td>01/22/2020</td>\n      <td>Beijing</td>\n      <td>Mainland China</td>\n      <td>1/22/2020 17:00</td>\n      <td>14</td>\n      <td>0</td>\n      <td>0</td>\n    </tr>\n    <tr>\n      <th>3</th>\n      <td>01/22/2020</td>\n      <td>Chongqing</td>\n      <td>Mainland China</td>\n      <td>1/22/2020 17:00</td>\n      <td>6</td>\n      <td>0</td>\n      <td>0</td>\n    </tr>\n    <tr>\n      <th>4</th>\n      <td>01/22/2020</td>\n      <td>Fujian</td>\n      <td>Mainland China</td>\n      <td>1/22/2020 17:00</td>\n      <td>1</td>\n      <td>0</td>\n      <td>0</td>\n    </tr>\n    <tr>\n      <th>5</th>\n      <td>01/22/2020</td>\n      <td>Gansu</td>\n      <td>Mainland China</td>\n      <td>1/22/2020 17:00</td>\n      <td>0</td>\n      <td>0</td>\n      <td>0</td>\n    </tr>\n  </tbody>\n</table>\n</div>"
     },
     "execution_count": 7,
     "metadata": {},
     "output_type": "execute_result"
    }
   ],
   "source": [
    "data.head()"
   ],
   "metadata": {
    "collapsed": false,
    "pycharm": {
     "name": "#%%\n"
    }
   }
  },
  {
   "cell_type": "code",
   "execution_count": 8,
   "outputs": [],
   "source": [
    "data.drop(columns=[\"state\"], inplace=True)"
   ],
   "metadata": {
    "collapsed": false,
    "pycharm": {
     "name": "#%%\n"
    }
   }
  },
  {
   "cell_type": "code",
   "execution_count": 9,
   "outputs": [
    {
     "data": {
      "text/plain": "                  name alpha-2 alpha-3  country-code     iso_3166-2   region  \\\n0          Afghanistan      AF     AFG             4  ISO 3166-2:AF     Asia   \n1        Åland Islands      AX     ALA           248  ISO 3166-2:AX   Europe   \n2              Albania      AL     ALB             8  ISO 3166-2:AL   Europe   \n3              Algeria      DZ     DZA            12  ISO 3166-2:DZ   Africa   \n4       American Samoa      AS     ASM            16  ISO 3166-2:AS  Oceania   \n..                 ...     ...     ...           ...            ...      ...   \n244  Wallis and Futuna      WF     WLF           876  ISO 3166-2:WF  Oceania   \n245     Western Sahara      EH     ESH           732  ISO 3166-2:EH   Africa   \n246              Yemen      YE     YEM           887  ISO 3166-2:YE     Asia   \n247             Zambia      ZM     ZMB           894  ISO 3166-2:ZM   Africa   \n248           Zimbabwe      ZW     ZWE           716  ISO 3166-2:ZW   Africa   \n\n             sub-region intermediate-region  region-code  sub-region-code  \\\n0         Southern Asia                 NaN        142.0             34.0   \n1       Northern Europe                 NaN        150.0            154.0   \n2       Southern Europe                 NaN        150.0             39.0   \n3       Northern Africa                 NaN          2.0             15.0   \n4             Polynesia                 NaN          9.0             61.0   \n..                  ...                 ...          ...              ...   \n244           Polynesia                 NaN          9.0             61.0   \n245     Northern Africa                 NaN          2.0             15.0   \n246        Western Asia                 NaN        142.0            145.0   \n247  Sub-Saharan Africa      Eastern Africa          2.0            202.0   \n248  Sub-Saharan Africa      Eastern Africa          2.0            202.0   \n\n     intermediate-region-code  \n0                         NaN  \n1                         NaN  \n2                         NaN  \n3                         NaN  \n4                         NaN  \n..                        ...  \n244                       NaN  \n245                       NaN  \n246                       NaN  \n247                      14.0  \n248                      14.0  \n\n[249 rows x 11 columns]",
      "text/html": "<div>\n<style scoped>\n    .dataframe tbody tr th:only-of-type {\n        vertical-align: middle;\n    }\n\n    .dataframe tbody tr th {\n        vertical-align: top;\n    }\n\n    .dataframe thead th {\n        text-align: right;\n    }\n</style>\n<table border=\"1\" class=\"dataframe\">\n  <thead>\n    <tr style=\"text-align: right;\">\n      <th></th>\n      <th>name</th>\n      <th>alpha-2</th>\n      <th>alpha-3</th>\n      <th>country-code</th>\n      <th>iso_3166-2</th>\n      <th>region</th>\n      <th>sub-region</th>\n      <th>intermediate-region</th>\n      <th>region-code</th>\n      <th>sub-region-code</th>\n      <th>intermediate-region-code</th>\n    </tr>\n  </thead>\n  <tbody>\n    <tr>\n      <th>0</th>\n      <td>Afghanistan</td>\n      <td>AF</td>\n      <td>AFG</td>\n      <td>4</td>\n      <td>ISO 3166-2:AF</td>\n      <td>Asia</td>\n      <td>Southern Asia</td>\n      <td>NaN</td>\n      <td>142.0</td>\n      <td>34.0</td>\n      <td>NaN</td>\n    </tr>\n    <tr>\n      <th>1</th>\n      <td>Åland Islands</td>\n      <td>AX</td>\n      <td>ALA</td>\n      <td>248</td>\n      <td>ISO 3166-2:AX</td>\n      <td>Europe</td>\n      <td>Northern Europe</td>\n      <td>NaN</td>\n      <td>150.0</td>\n      <td>154.0</td>\n      <td>NaN</td>\n    </tr>\n    <tr>\n      <th>2</th>\n      <td>Albania</td>\n      <td>AL</td>\n      <td>ALB</td>\n      <td>8</td>\n      <td>ISO 3166-2:AL</td>\n      <td>Europe</td>\n      <td>Southern Europe</td>\n      <td>NaN</td>\n      <td>150.0</td>\n      <td>39.0</td>\n      <td>NaN</td>\n    </tr>\n    <tr>\n      <th>3</th>\n      <td>Algeria</td>\n      <td>DZ</td>\n      <td>DZA</td>\n      <td>12</td>\n      <td>ISO 3166-2:DZ</td>\n      <td>Africa</td>\n      <td>Northern Africa</td>\n      <td>NaN</td>\n      <td>2.0</td>\n      <td>15.0</td>\n      <td>NaN</td>\n    </tr>\n    <tr>\n      <th>4</th>\n      <td>American Samoa</td>\n      <td>AS</td>\n      <td>ASM</td>\n      <td>16</td>\n      <td>ISO 3166-2:AS</td>\n      <td>Oceania</td>\n      <td>Polynesia</td>\n      <td>NaN</td>\n      <td>9.0</td>\n      <td>61.0</td>\n      <td>NaN</td>\n    </tr>\n    <tr>\n      <th>...</th>\n      <td>...</td>\n      <td>...</td>\n      <td>...</td>\n      <td>...</td>\n      <td>...</td>\n      <td>...</td>\n      <td>...</td>\n      <td>...</td>\n      <td>...</td>\n      <td>...</td>\n      <td>...</td>\n    </tr>\n    <tr>\n      <th>244</th>\n      <td>Wallis and Futuna</td>\n      <td>WF</td>\n      <td>WLF</td>\n      <td>876</td>\n      <td>ISO 3166-2:WF</td>\n      <td>Oceania</td>\n      <td>Polynesia</td>\n      <td>NaN</td>\n      <td>9.0</td>\n      <td>61.0</td>\n      <td>NaN</td>\n    </tr>\n    <tr>\n      <th>245</th>\n      <td>Western Sahara</td>\n      <td>EH</td>\n      <td>ESH</td>\n      <td>732</td>\n      <td>ISO 3166-2:EH</td>\n      <td>Africa</td>\n      <td>Northern Africa</td>\n      <td>NaN</td>\n      <td>2.0</td>\n      <td>15.0</td>\n      <td>NaN</td>\n    </tr>\n    <tr>\n      <th>246</th>\n      <td>Yemen</td>\n      <td>YE</td>\n      <td>YEM</td>\n      <td>887</td>\n      <td>ISO 3166-2:YE</td>\n      <td>Asia</td>\n      <td>Western Asia</td>\n      <td>NaN</td>\n      <td>142.0</td>\n      <td>145.0</td>\n      <td>NaN</td>\n    </tr>\n    <tr>\n      <th>247</th>\n      <td>Zambia</td>\n      <td>ZM</td>\n      <td>ZMB</td>\n      <td>894</td>\n      <td>ISO 3166-2:ZM</td>\n      <td>Africa</td>\n      <td>Sub-Saharan Africa</td>\n      <td>Eastern Africa</td>\n      <td>2.0</td>\n      <td>202.0</td>\n      <td>14.0</td>\n    </tr>\n    <tr>\n      <th>248</th>\n      <td>Zimbabwe</td>\n      <td>ZW</td>\n      <td>ZWE</td>\n      <td>716</td>\n      <td>ISO 3166-2:ZW</td>\n      <td>Africa</td>\n      <td>Sub-Saharan Africa</td>\n      <td>Eastern Africa</td>\n      <td>2.0</td>\n      <td>202.0</td>\n      <td>14.0</td>\n    </tr>\n  </tbody>\n</table>\n<p>249 rows × 11 columns</p>\n</div>"
     },
     "execution_count": 9,
     "metadata": {},
     "output_type": "execute_result"
    }
   ],
   "source": [
    "continents_mapping = pd.read_csv(\"continents2.csv\")\n",
    "continents_mapping"
   ],
   "metadata": {
    "collapsed": false,
    "pycharm": {
     "name": "#%%\n"
    }
   }
  },
  {
   "cell_type": "code",
   "execution_count": 10,
   "outputs": [],
   "source": [
    "mapping_to_sub_region = dict(zip(continents_mapping.name, continents_mapping[\"sub-region\"]))\n",
    "mapping_to_region = dict(zip(continents_mapping.name, continents_mapping.region))"
   ],
   "metadata": {
    "collapsed": false,
    "pycharm": {
     "name": "#%%\n"
    }
   }
  },
  {
   "cell_type": "code",
   "execution_count": 11,
   "outputs": [],
   "source": [
    "tmp = []\n",
    "for x in data.country:\n",
    "    if x == ' Azerbaijan':\n",
    "        tmp.append('Azerbaijan')\n",
    "    elif x == \"UK\":\n",
    "        tmp.append(\"United Kingdom\")\n",
    "    elif x == \"US\":\n",
    "        tmp.append(\"United States\")\n",
    "    elif x == 'Bosnia and Herzegovina':\n",
    "        tmp.append('Bosnia And Herzegovina')\n",
    "    elif x == 'Bahamas, The' or x == 'The Bahamas':\n",
    "        tmp.append(\"Bahamas\")\n",
    "    elif x == 'Gambia, The' or x == 'The Gambia':\n",
    "        tmp.append(\"Gambia\")\n",
    "    elif x == 'Mainland China':\n",
    "        tmp.append(\"China\")\n",
    "    elif x == 'Congo (Brazzaville)' or x == 'Congo (Kinshasa)' or x ==  'Republic of the Congo':\n",
    "        tmp.append(\"Congo\")\n",
    "    elif x == 'Curacao':\n",
    "        tmp.append(\"Curaçao\")\n",
    "    elif x == \"('St. Martin',)\":\n",
    "        tmp.append(\"Saint Martin (French part)\")\n",
    "    else:\n",
    "        tmp.append(x)\n",
    "\n",
    "data.country = tmp"
   ],
   "metadata": {
    "collapsed": false,
    "pycharm": {
     "name": "#%%\n"
    }
   }
  },
  {
   "cell_type": "code",
   "execution_count": 12,
   "outputs": [
    {
     "data": {
      "text/plain": "{'Brunei',\n 'Burma',\n 'Cape Verde',\n 'Channel Islands',\n 'Diamond Princess',\n 'East Timor',\n 'Guinea-Bissau',\n 'Ivory Coast',\n 'Kosovo',\n 'MS Zaandam',\n 'Macau',\n 'Micronesia',\n 'North Ireland',\n 'North Macedonia',\n 'Others',\n 'Palestine',\n 'Republic of Ireland',\n 'Reunion',\n 'Saint Barthelemy',\n 'St. Martin',\n 'Vatican City',\n 'West Bank and Gaza',\n 'occupied Palestinian territory'}"
     },
     "execution_count": 12,
     "metadata": {},
     "output_type": "execute_result"
    }
   ],
   "source": [
    "set([x for x in data.country if not x in mapping_to_region])"
   ],
   "metadata": {
    "collapsed": false,
    "pycharm": {
     "name": "#%%\n"
    }
   }
  },
  {
   "cell_type": "code",
   "execution_count": 13,
   "outputs": [
    {
     "data": {
      "text/plain": "dict_keys(['Afghanistan', 'Åland Islands', 'Albania', 'Algeria', 'American Samoa', 'Andorra', 'Angola', 'Anguilla', 'Antarctica', 'Antigua and Barbuda', 'Argentina', 'Armenia', 'Aruba', 'Australia', 'Austria', 'Azerbaijan', 'Bahamas', 'Bahrain', 'Bangladesh', 'Barbados', 'Belarus', 'Belgium', 'Belize', 'Benin', 'Bermuda', 'Bhutan', 'Bolivia', 'Bonaire, Sint Eustatius and Saba', 'Bosnia And Herzegovina', 'Botswana', 'Bouvet Island', 'Brazil', 'British Indian Ocean Territory', 'Brunei Darussalam', 'Bulgaria', 'Burkina Faso', 'Burundi', 'Cabo Verde', 'Cambodia', 'Cameroon', 'Canada', 'Cayman Islands', 'Central African Republic', 'Chad', 'Chile', 'China', 'Christmas Island', 'Cocos (Keeling) Islands', 'Colombia', 'Comoros', 'Congo', 'Congo (Democratic Republic Of The)', 'Cook Islands', 'Costa Rica', \"Côte D'Ivoire\", 'Croatia', 'Cuba', 'Curaçao', 'Cyprus', 'Czech Republic', 'Denmark', 'Djibouti', 'Dominica', 'Dominican Republic', 'Ecuador', 'Egypt', 'El Salvador', 'Equatorial Guinea', 'Eritrea', 'Estonia', 'Eswatini', 'Ethiopia', 'Falkland Islands (Malvinas)', 'Faroe Islands', 'Fiji', 'Finland', 'France', 'French Guiana', 'French Polynesia', 'French Southern Territories', 'Gabon', 'Gambia', 'Georgia', 'Germany', 'Ghana', 'Gibraltar', 'Greece', 'Greenland', 'Grenada', 'Guadeloupe', 'Guam', 'Guatemala', 'Guernsey', 'Guinea', 'Guinea Bissau', 'Guyana', 'Haiti', 'Heard Island and McDonald Islands', 'Holy See', 'Honduras', 'Hong Kong', 'Hungary', 'Iceland', 'India', 'Indonesia', 'Iran', 'Iraq', 'Ireland', 'Isle of Man', 'Israel', 'Italy', 'Jamaica', 'Japan', 'Jersey', 'Jordan', 'Kazakhstan', 'Kenya', 'Kiribati', 'South Korea', 'Korea, Republic of', 'Kuwait', 'Kyrgyzstan', 'Laos', 'Latvia', 'Lebanon', 'Lesotho', 'Liberia', 'Libya', 'Liechtenstein', 'Lithuania', 'Luxembourg', 'Macao', 'Madagascar', 'Malawi', 'Malaysia', 'Maldives', 'Mali', 'Malta', 'Marshall Islands', 'Martinique', 'Mauritania', 'Mauritius', 'Mayotte', 'Mexico', 'Micronesia (Federated States of)', 'Moldova', 'Monaco', 'Mongolia', 'Montenegro', 'Montserrat', 'Morocco', 'Mozambique', 'Myanmar', 'Namibia', 'Nauru', 'Nepal', 'Netherlands', 'New Caledonia', 'New Zealand', 'Nicaragua', 'Niger', 'Nigeria', 'Niue', 'Norfolk Island', 'Macedonia', 'Northern Mariana Islands', 'Norway', 'Oman', 'Pakistan', 'Palau', 'Palestine, State of', 'Panama', 'Papua New Guinea', 'Paraguay', 'Peru', 'Philippines', 'Pitcairn', 'Poland', 'Portugal', 'Puerto Rico', 'Qatar', 'Réunion', 'Romania', 'Russia', 'Rwanda', 'Saint Barthélemy', 'Saint Helena, Ascension and Tristan da Cunha', 'Saint Kitts and Nevis', 'Saint Lucia', 'Saint Martin (French part)', 'Saint Pierre and Miquelon', 'Saint Vincent and the Grenadines', 'Samoa', 'San Marino', 'Sao Tome and Principe', 'Saudi Arabia', 'Senegal', 'Serbia', 'Seychelles', 'Sierra Leone', 'Singapore', 'Sint Maarten (Dutch part)', 'Slovakia', 'Slovenia', 'Solomon Islands', 'Somalia', 'South Africa', 'South Georgia and the South Sandwich Islands', 'South Sudan', 'Spain', 'Sri Lanka', 'Sudan', 'Suriname', 'Svalbard and Jan Mayen', 'Sweden', 'Switzerland', 'Syria', 'Taiwan', 'Tajikistan', 'Tanzania', 'Thailand', 'Timor-Leste', 'Togo', 'Tokelau', 'Tonga', 'Trinidad and Tobago', 'Tunisia', 'Turkey', 'Turkmenistan', 'Turks and Caicos Islands', 'Tuvalu', 'Uganda', 'Ukraine', 'United Arab Emirates', 'United Kingdom', 'United States', 'United States Minor Outlying Islands', 'Uruguay', 'Uzbekistan', 'Vanuatu', 'Venezuela', 'Vietnam', 'Virgin Islands (British)', 'Virgin Islands (U.S.)', 'Wallis and Futuna', 'Western Sahara', 'Yemen', 'Zambia', 'Zimbabwe'])"
     },
     "execution_count": 13,
     "metadata": {},
     "output_type": "execute_result"
    }
   ],
   "source": [
    "mapping_to_region.keys()"
   ],
   "metadata": {
    "collapsed": false,
    "pycharm": {
     "name": "#%%\n"
    }
   }
  },
  {
   "cell_type": "code",
   "execution_count": 13,
   "outputs": [],
   "source": [],
   "metadata": {
    "collapsed": false,
    "pycharm": {
     "name": "#%%\n"
    }
   }
  },
  {
   "cell_type": "code",
   "execution_count": 14,
   "outputs": [
    {
     "data": {
      "text/plain": "                               confirmed  deaths  recovered\ndate       country                                         \n01/01/2021 Afghanistan             51526    2191      41727\n           Albania                 58316    1181      33634\n           Algeria                 99897    2762      67395\n           Andorra                  8117      84       7463\n           Angola                  17568     405      11146\n...                                  ...     ...        ...\n12/31/2020 Vietnam                  1465      35       1325\n           West Bank and Gaza     138004    1400     117183\n           Yemen                    2099     610       1394\n           Zambia                  20725     388      18660\n           Zimbabwe                13867     363      11250\n\n[86779 rows x 3 columns]",
      "text/html": "<div>\n<style scoped>\n    .dataframe tbody tr th:only-of-type {\n        vertical-align: middle;\n    }\n\n    .dataframe tbody tr th {\n        vertical-align: top;\n    }\n\n    .dataframe thead th {\n        text-align: right;\n    }\n</style>\n<table border=\"1\" class=\"dataframe\">\n  <thead>\n    <tr style=\"text-align: right;\">\n      <th></th>\n      <th></th>\n      <th>confirmed</th>\n      <th>deaths</th>\n      <th>recovered</th>\n    </tr>\n    <tr>\n      <th>date</th>\n      <th>country</th>\n      <th></th>\n      <th></th>\n      <th></th>\n    </tr>\n  </thead>\n  <tbody>\n    <tr>\n      <th rowspan=\"5\" valign=\"top\">01/01/2021</th>\n      <th>Afghanistan</th>\n      <td>51526</td>\n      <td>2191</td>\n      <td>41727</td>\n    </tr>\n    <tr>\n      <th>Albania</th>\n      <td>58316</td>\n      <td>1181</td>\n      <td>33634</td>\n    </tr>\n    <tr>\n      <th>Algeria</th>\n      <td>99897</td>\n      <td>2762</td>\n      <td>67395</td>\n    </tr>\n    <tr>\n      <th>Andorra</th>\n      <td>8117</td>\n      <td>84</td>\n      <td>7463</td>\n    </tr>\n    <tr>\n      <th>Angola</th>\n      <td>17568</td>\n      <td>405</td>\n      <td>11146</td>\n    </tr>\n    <tr>\n      <th>...</th>\n      <th>...</th>\n      <td>...</td>\n      <td>...</td>\n      <td>...</td>\n    </tr>\n    <tr>\n      <th rowspan=\"5\" valign=\"top\">12/31/2020</th>\n      <th>Vietnam</th>\n      <td>1465</td>\n      <td>35</td>\n      <td>1325</td>\n    </tr>\n    <tr>\n      <th>West Bank and Gaza</th>\n      <td>138004</td>\n      <td>1400</td>\n      <td>117183</td>\n    </tr>\n    <tr>\n      <th>Yemen</th>\n      <td>2099</td>\n      <td>610</td>\n      <td>1394</td>\n    </tr>\n    <tr>\n      <th>Zambia</th>\n      <td>20725</td>\n      <td>388</td>\n      <td>18660</td>\n    </tr>\n    <tr>\n      <th>Zimbabwe</th>\n      <td>13867</td>\n      <td>363</td>\n      <td>11250</td>\n    </tr>\n  </tbody>\n</table>\n<p>86779 rows × 3 columns</p>\n</div>"
     },
     "execution_count": 14,
     "metadata": {},
     "output_type": "execute_result"
    }
   ],
   "source": [
    "groupped_data = data.groupby([\"date\", \"country\"]).agg({\"confirmed\":\"sum\", \"deaths\": \"sum\", \"recovered\": \"sum\"})\n",
    "groupped_data"
   ],
   "metadata": {
    "collapsed": false,
    "pycharm": {
     "name": "#%%\n"
    }
   }
  },
  {
   "cell_type": "code",
   "execution_count": 15,
   "outputs": [
    {
     "data": {
      "text/plain": "             date             country  confirmed  deaths  recovered\n0      01/01/2021         Afghanistan      51526    2191      41727\n1      01/01/2021             Albania      58316    1181      33634\n2      01/01/2021             Algeria      99897    2762      67395\n3      01/01/2021             Andorra       8117      84       7463\n4      01/01/2021              Angola      17568     405      11146\n...           ...                 ...        ...     ...        ...\n86774  12/31/2020             Vietnam       1465      35       1325\n86775  12/31/2020  West Bank and Gaza     138004    1400     117183\n86776  12/31/2020               Yemen       2099     610       1394\n86777  12/31/2020              Zambia      20725     388      18660\n86778  12/31/2020            Zimbabwe      13867     363      11250\n\n[86779 rows x 5 columns]",
      "text/html": "<div>\n<style scoped>\n    .dataframe tbody tr th:only-of-type {\n        vertical-align: middle;\n    }\n\n    .dataframe tbody tr th {\n        vertical-align: top;\n    }\n\n    .dataframe thead th {\n        text-align: right;\n    }\n</style>\n<table border=\"1\" class=\"dataframe\">\n  <thead>\n    <tr style=\"text-align: right;\">\n      <th></th>\n      <th>date</th>\n      <th>country</th>\n      <th>confirmed</th>\n      <th>deaths</th>\n      <th>recovered</th>\n    </tr>\n  </thead>\n  <tbody>\n    <tr>\n      <th>0</th>\n      <td>01/01/2021</td>\n      <td>Afghanistan</td>\n      <td>51526</td>\n      <td>2191</td>\n      <td>41727</td>\n    </tr>\n    <tr>\n      <th>1</th>\n      <td>01/01/2021</td>\n      <td>Albania</td>\n      <td>58316</td>\n      <td>1181</td>\n      <td>33634</td>\n    </tr>\n    <tr>\n      <th>2</th>\n      <td>01/01/2021</td>\n      <td>Algeria</td>\n      <td>99897</td>\n      <td>2762</td>\n      <td>67395</td>\n    </tr>\n    <tr>\n      <th>3</th>\n      <td>01/01/2021</td>\n      <td>Andorra</td>\n      <td>8117</td>\n      <td>84</td>\n      <td>7463</td>\n    </tr>\n    <tr>\n      <th>4</th>\n      <td>01/01/2021</td>\n      <td>Angola</td>\n      <td>17568</td>\n      <td>405</td>\n      <td>11146</td>\n    </tr>\n    <tr>\n      <th>...</th>\n      <td>...</td>\n      <td>...</td>\n      <td>...</td>\n      <td>...</td>\n      <td>...</td>\n    </tr>\n    <tr>\n      <th>86774</th>\n      <td>12/31/2020</td>\n      <td>Vietnam</td>\n      <td>1465</td>\n      <td>35</td>\n      <td>1325</td>\n    </tr>\n    <tr>\n      <th>86775</th>\n      <td>12/31/2020</td>\n      <td>West Bank and Gaza</td>\n      <td>138004</td>\n      <td>1400</td>\n      <td>117183</td>\n    </tr>\n    <tr>\n      <th>86776</th>\n      <td>12/31/2020</td>\n      <td>Yemen</td>\n      <td>2099</td>\n      <td>610</td>\n      <td>1394</td>\n    </tr>\n    <tr>\n      <th>86777</th>\n      <td>12/31/2020</td>\n      <td>Zambia</td>\n      <td>20725</td>\n      <td>388</td>\n      <td>18660</td>\n    </tr>\n    <tr>\n      <th>86778</th>\n      <td>12/31/2020</td>\n      <td>Zimbabwe</td>\n      <td>13867</td>\n      <td>363</td>\n      <td>11250</td>\n    </tr>\n  </tbody>\n</table>\n<p>86779 rows × 5 columns</p>\n</div>"
     },
     "execution_count": 15,
     "metadata": {},
     "output_type": "execute_result"
    }
   ],
   "source": [
    "groupped_data = groupped_data.reset_index()\n",
    "groupped_data"
   ],
   "metadata": {
    "collapsed": false,
    "pycharm": {
     "name": "#%%\n"
    }
   }
  },
  {
   "cell_type": "code",
   "execution_count": 16,
   "outputs": [],
   "source": [
    "groupped_data.date = pd.to_datetime(groupped_data.date, infer_datetime_format=True)"
   ],
   "metadata": {
    "collapsed": false,
    "pycharm": {
     "name": "#%%\n"
    }
   }
  },
  {
   "cell_type": "code",
   "execution_count": 17,
   "outputs": [
    {
     "data": {
      "text/plain": "            date             country  confirmed  deaths  recovered\n0     2021-01-01         Afghanistan      51526    2191      41727\n1     2021-01-01             Albania      58316    1181      33634\n2     2021-01-01             Algeria      99897    2762      67395\n3     2021-01-01             Andorra       8117      84       7463\n4     2021-01-01              Angola      17568     405      11146\n...          ...                 ...        ...     ...        ...\n86774 2020-12-31             Vietnam       1465      35       1325\n86775 2020-12-31  West Bank and Gaza     138004    1400     117183\n86776 2020-12-31               Yemen       2099     610       1394\n86777 2020-12-31              Zambia      20725     388      18660\n86778 2020-12-31            Zimbabwe      13867     363      11250\n\n[86779 rows x 5 columns]",
      "text/html": "<div>\n<style scoped>\n    .dataframe tbody tr th:only-of-type {\n        vertical-align: middle;\n    }\n\n    .dataframe tbody tr th {\n        vertical-align: top;\n    }\n\n    .dataframe thead th {\n        text-align: right;\n    }\n</style>\n<table border=\"1\" class=\"dataframe\">\n  <thead>\n    <tr style=\"text-align: right;\">\n      <th></th>\n      <th>date</th>\n      <th>country</th>\n      <th>confirmed</th>\n      <th>deaths</th>\n      <th>recovered</th>\n    </tr>\n  </thead>\n  <tbody>\n    <tr>\n      <th>0</th>\n      <td>2021-01-01</td>\n      <td>Afghanistan</td>\n      <td>51526</td>\n      <td>2191</td>\n      <td>41727</td>\n    </tr>\n    <tr>\n      <th>1</th>\n      <td>2021-01-01</td>\n      <td>Albania</td>\n      <td>58316</td>\n      <td>1181</td>\n      <td>33634</td>\n    </tr>\n    <tr>\n      <th>2</th>\n      <td>2021-01-01</td>\n      <td>Algeria</td>\n      <td>99897</td>\n      <td>2762</td>\n      <td>67395</td>\n    </tr>\n    <tr>\n      <th>3</th>\n      <td>2021-01-01</td>\n      <td>Andorra</td>\n      <td>8117</td>\n      <td>84</td>\n      <td>7463</td>\n    </tr>\n    <tr>\n      <th>4</th>\n      <td>2021-01-01</td>\n      <td>Angola</td>\n      <td>17568</td>\n      <td>405</td>\n      <td>11146</td>\n    </tr>\n    <tr>\n      <th>...</th>\n      <td>...</td>\n      <td>...</td>\n      <td>...</td>\n      <td>...</td>\n      <td>...</td>\n    </tr>\n    <tr>\n      <th>86774</th>\n      <td>2020-12-31</td>\n      <td>Vietnam</td>\n      <td>1465</td>\n      <td>35</td>\n      <td>1325</td>\n    </tr>\n    <tr>\n      <th>86775</th>\n      <td>2020-12-31</td>\n      <td>West Bank and Gaza</td>\n      <td>138004</td>\n      <td>1400</td>\n      <td>117183</td>\n    </tr>\n    <tr>\n      <th>86776</th>\n      <td>2020-12-31</td>\n      <td>Yemen</td>\n      <td>2099</td>\n      <td>610</td>\n      <td>1394</td>\n    </tr>\n    <tr>\n      <th>86777</th>\n      <td>2020-12-31</td>\n      <td>Zambia</td>\n      <td>20725</td>\n      <td>388</td>\n      <td>18660</td>\n    </tr>\n    <tr>\n      <th>86778</th>\n      <td>2020-12-31</td>\n      <td>Zimbabwe</td>\n      <td>13867</td>\n      <td>363</td>\n      <td>11250</td>\n    </tr>\n  </tbody>\n</table>\n<p>86779 rows × 5 columns</p>\n</div>"
     },
     "execution_count": 17,
     "metadata": {},
     "output_type": "execute_result"
    }
   ],
   "source": [
    "groupped_data"
   ],
   "metadata": {
    "collapsed": false,
    "pycharm": {
     "name": "#%%\n"
    }
   }
  },
  {
   "cell_type": "code",
   "execution_count": 18,
   "outputs": [],
   "source": [
    "mapping_to_region_lambda = lambda x: mapping_to_region[x] if x in mapping_to_region else \"Other\""
   ],
   "metadata": {
    "collapsed": false,
    "pycharm": {
     "name": "#%%\n"
    }
   }
  },
  {
   "cell_type": "code",
   "execution_count": 19,
   "outputs": [],
   "source": [
    "groupped_data[\"region\"] = groupped_data.country.map(mapping_to_region_lambda)"
   ],
   "metadata": {
    "collapsed": false,
    "pycharm": {
     "name": "#%%\n"
    }
   }
  },
  {
   "cell_type": "code",
   "execution_count": 20,
   "outputs": [
    {
     "data": {
      "text/plain": "Africa      22356\nAsia        20833\nEurope      19835\nAmericas    15707\nOther        4647\nOceania      3401\nName: region, dtype: int64"
     },
     "execution_count": 20,
     "metadata": {},
     "output_type": "execute_result"
    }
   ],
   "source": [
    "groupped_data[\"region\"].value_counts()"
   ],
   "metadata": {
    "collapsed": false,
    "pycharm": {
     "name": "#%%\n"
    }
   }
  },
  {
   "cell_type": "code",
   "execution_count": 21,
   "outputs": [],
   "source": [
    "mapping_to_sub_region_lambda = lambda x: mapping_to_sub_region[x] if x in mapping_to_sub_region else \"Other\""
   ],
   "metadata": {
    "collapsed": false,
    "pycharm": {
     "name": "#%%\n"
    }
   }
  },
  {
   "cell_type": "code",
   "execution_count": 22,
   "outputs": [],
   "source": [
    "groupped_data[\"sub_region\"] = groupped_data.country.map(mapping_to_sub_region_lambda)"
   ],
   "metadata": {
    "collapsed": false,
    "pycharm": {
     "name": "#%%\n"
    }
   }
  },
  {
   "cell_type": "code",
   "execution_count": 23,
   "outputs": [
    {
     "data": {
      "text/plain": "Sub-Saharan Africa                 19644\nLatin America and the Caribbean    14717\nWestern Asia                        7734\nSouthern Europe                     6394\nNorthern Europe                     4679\nOther                               4647\nEastern Europe                      4559\nSouth-eastern Asia                  4268\nWestern Europe                      4203\nSouthern Asia                       4198\nEastern Asia                        2916\nNorthern Africa                     2712\nCentral Asia                        1717\nMelanesia                           1304\nNorthern America                     990\nAustralia and New Zealand            949\nMicronesia                           714\nPolynesia                            434\nName: sub_region, dtype: int64"
     },
     "execution_count": 23,
     "metadata": {},
     "output_type": "execute_result"
    }
   ],
   "source": [
    "groupped_data[\"sub_region\"].value_counts()"
   ],
   "metadata": {
    "collapsed": false,
    "pycharm": {
     "name": "#%%\n"
    }
   }
  },
  {
   "cell_type": "code",
   "execution_count": 24,
   "outputs": [
    {
     "data": {
      "text/plain": "        date      country  confirmed  deaths  recovered  region  \\\n0 2021-01-01  Afghanistan      51526    2191      41727    Asia   \n1 2021-01-01      Albania      58316    1181      33634  Europe   \n2 2021-01-01      Algeria      99897    2762      67395  Africa   \n3 2021-01-01      Andorra       8117      84       7463  Europe   \n4 2021-01-01       Angola      17568     405      11146  Africa   \n\n           sub_region  \n0       Southern Asia  \n1     Southern Europe  \n2     Northern Africa  \n3     Southern Europe  \n4  Sub-Saharan Africa  ",
      "text/html": "<div>\n<style scoped>\n    .dataframe tbody tr th:only-of-type {\n        vertical-align: middle;\n    }\n\n    .dataframe tbody tr th {\n        vertical-align: top;\n    }\n\n    .dataframe thead th {\n        text-align: right;\n    }\n</style>\n<table border=\"1\" class=\"dataframe\">\n  <thead>\n    <tr style=\"text-align: right;\">\n      <th></th>\n      <th>date</th>\n      <th>country</th>\n      <th>confirmed</th>\n      <th>deaths</th>\n      <th>recovered</th>\n      <th>region</th>\n      <th>sub_region</th>\n    </tr>\n  </thead>\n  <tbody>\n    <tr>\n      <th>0</th>\n      <td>2021-01-01</td>\n      <td>Afghanistan</td>\n      <td>51526</td>\n      <td>2191</td>\n      <td>41727</td>\n      <td>Asia</td>\n      <td>Southern Asia</td>\n    </tr>\n    <tr>\n      <th>1</th>\n      <td>2021-01-01</td>\n      <td>Albania</td>\n      <td>58316</td>\n      <td>1181</td>\n      <td>33634</td>\n      <td>Europe</td>\n      <td>Southern Europe</td>\n    </tr>\n    <tr>\n      <th>2</th>\n      <td>2021-01-01</td>\n      <td>Algeria</td>\n      <td>99897</td>\n      <td>2762</td>\n      <td>67395</td>\n      <td>Africa</td>\n      <td>Northern Africa</td>\n    </tr>\n    <tr>\n      <th>3</th>\n      <td>2021-01-01</td>\n      <td>Andorra</td>\n      <td>8117</td>\n      <td>84</td>\n      <td>7463</td>\n      <td>Europe</td>\n      <td>Southern Europe</td>\n    </tr>\n    <tr>\n      <th>4</th>\n      <td>2021-01-01</td>\n      <td>Angola</td>\n      <td>17568</td>\n      <td>405</td>\n      <td>11146</td>\n      <td>Africa</td>\n      <td>Sub-Saharan Africa</td>\n    </tr>\n  </tbody>\n</table>\n</div>"
     },
     "execution_count": 24,
     "metadata": {},
     "output_type": "execute_result"
    }
   ],
   "source": [
    "groupped_data.head()"
   ],
   "metadata": {
    "collapsed": false,
    "pycharm": {
     "name": "#%%\n"
    }
   }
  },
  {
   "cell_type": "code",
   "execution_count": 25,
   "outputs": [
    {
     "data": {
      "text/plain": "            date           country  confirmed  deaths  recovered    region  \\\n0     2020-01-22             Japan          2       0          0      Asia   \n1     2020-01-22             China        547      17         28      Asia   \n2     2020-01-22         Hong Kong          0       0          0      Asia   \n3     2020-01-22             Macau          1       0          0     Other   \n4     2020-01-22       South Korea          1       0          0      Asia   \n...          ...               ...        ...     ...        ...       ...   \n86774 2021-05-29           Grenada        161       1        160  Americas   \n86775 2021-05-29         Guatemala     253837    8121     232359  Americas   \n86776 2021-05-29            Guinea      23172     161      20971    Africa   \n86777 2021-05-29  Diamond Princess        712      13        699     Other   \n86778 2021-05-29            Zambia      94751    1276      91594    Africa   \n\n                            sub_region  \n0                         Eastern Asia  \n1                         Eastern Asia  \n2                         Eastern Asia  \n3                                Other  \n4                         Eastern Asia  \n...                                ...  \n86774  Latin America and the Caribbean  \n86775  Latin America and the Caribbean  \n86776               Sub-Saharan Africa  \n86777                            Other  \n86778               Sub-Saharan Africa  \n\n[86779 rows x 7 columns]",
      "text/html": "<div>\n<style scoped>\n    .dataframe tbody tr th:only-of-type {\n        vertical-align: middle;\n    }\n\n    .dataframe tbody tr th {\n        vertical-align: top;\n    }\n\n    .dataframe thead th {\n        text-align: right;\n    }\n</style>\n<table border=\"1\" class=\"dataframe\">\n  <thead>\n    <tr style=\"text-align: right;\">\n      <th></th>\n      <th>date</th>\n      <th>country</th>\n      <th>confirmed</th>\n      <th>deaths</th>\n      <th>recovered</th>\n      <th>region</th>\n      <th>sub_region</th>\n    </tr>\n  </thead>\n  <tbody>\n    <tr>\n      <th>0</th>\n      <td>2020-01-22</td>\n      <td>Japan</td>\n      <td>2</td>\n      <td>0</td>\n      <td>0</td>\n      <td>Asia</td>\n      <td>Eastern Asia</td>\n    </tr>\n    <tr>\n      <th>1</th>\n      <td>2020-01-22</td>\n      <td>China</td>\n      <td>547</td>\n      <td>17</td>\n      <td>28</td>\n      <td>Asia</td>\n      <td>Eastern Asia</td>\n    </tr>\n    <tr>\n      <th>2</th>\n      <td>2020-01-22</td>\n      <td>Hong Kong</td>\n      <td>0</td>\n      <td>0</td>\n      <td>0</td>\n      <td>Asia</td>\n      <td>Eastern Asia</td>\n    </tr>\n    <tr>\n      <th>3</th>\n      <td>2020-01-22</td>\n      <td>Macau</td>\n      <td>1</td>\n      <td>0</td>\n      <td>0</td>\n      <td>Other</td>\n      <td>Other</td>\n    </tr>\n    <tr>\n      <th>4</th>\n      <td>2020-01-22</td>\n      <td>South Korea</td>\n      <td>1</td>\n      <td>0</td>\n      <td>0</td>\n      <td>Asia</td>\n      <td>Eastern Asia</td>\n    </tr>\n    <tr>\n      <th>...</th>\n      <td>...</td>\n      <td>...</td>\n      <td>...</td>\n      <td>...</td>\n      <td>...</td>\n      <td>...</td>\n      <td>...</td>\n    </tr>\n    <tr>\n      <th>86774</th>\n      <td>2021-05-29</td>\n      <td>Grenada</td>\n      <td>161</td>\n      <td>1</td>\n      <td>160</td>\n      <td>Americas</td>\n      <td>Latin America and the Caribbean</td>\n    </tr>\n    <tr>\n      <th>86775</th>\n      <td>2021-05-29</td>\n      <td>Guatemala</td>\n      <td>253837</td>\n      <td>8121</td>\n      <td>232359</td>\n      <td>Americas</td>\n      <td>Latin America and the Caribbean</td>\n    </tr>\n    <tr>\n      <th>86776</th>\n      <td>2021-05-29</td>\n      <td>Guinea</td>\n      <td>23172</td>\n      <td>161</td>\n      <td>20971</td>\n      <td>Africa</td>\n      <td>Sub-Saharan Africa</td>\n    </tr>\n    <tr>\n      <th>86777</th>\n      <td>2021-05-29</td>\n      <td>Diamond Princess</td>\n      <td>712</td>\n      <td>13</td>\n      <td>699</td>\n      <td>Other</td>\n      <td>Other</td>\n    </tr>\n    <tr>\n      <th>86778</th>\n      <td>2021-05-29</td>\n      <td>Zambia</td>\n      <td>94751</td>\n      <td>1276</td>\n      <td>91594</td>\n      <td>Africa</td>\n      <td>Sub-Saharan Africa</td>\n    </tr>\n  </tbody>\n</table>\n<p>86779 rows × 7 columns</p>\n</div>"
     },
     "execution_count": 25,
     "metadata": {},
     "output_type": "execute_result"
    }
   ],
   "source": [
    "groupped_data = groupped_data.sort_values('date').reset_index(drop=True)\n",
    "groupped_data"
   ],
   "metadata": {
    "collapsed": false,
    "pycharm": {
     "name": "#%%\n"
    }
   }
  },
  {
   "cell_type": "code",
   "execution_count": 26,
   "outputs": [
    {
     "data": {
      "text/plain": "0        11054\n1         2173\n2         1753\n3         1350\n7         1212\n         ...  \n17355        1\n49348        1\n12361        1\n28725        1\n8121         1\nName: deaths, Length: 15750, dtype: int64"
     },
     "execution_count": 26,
     "metadata": {},
     "output_type": "execute_result"
    }
   ],
   "source": [
    "groupped_data.deaths.value_counts()"
   ],
   "metadata": {
    "collapsed": false,
    "pycharm": {
     "name": "#%%\n"
    }
   }
  },
  {
   "cell_type": "code",
   "execution_count": 27,
   "outputs": [
    {
     "data": {
      "text/plain": "         date      country  confirmed  deaths  recovered   region  \\\n0  2020-01-22        Japan          2       0          0     Asia   \n1  2020-01-22        China        547      17         28     Asia   \n2  2020-01-22    Hong Kong          0       0          0     Asia   \n3  2020-01-22        Macau          1       0          0    Other   \n4  2020-01-22  South Korea          1       0          0     Asia   \n..        ...          ...        ...     ...        ...      ...   \n95 2020-01-28    Hong Kong          8       0          0     Asia   \n96 2020-01-28     Kiribati          0       0          0  Oceania   \n97 2020-01-28    Singapore          7       0          0     Asia   \n98 2020-01-28     Malaysia          4       0          0     Asia   \n99 2020-01-28        Nepal          1       0          0     Asia   \n\n            sub_region  \n0         Eastern Asia  \n1         Eastern Asia  \n2         Eastern Asia  \n3                Other  \n4         Eastern Asia  \n..                 ...  \n95        Eastern Asia  \n96          Micronesia  \n97  South-eastern Asia  \n98  South-eastern Asia  \n99       Southern Asia  \n\n[100 rows x 7 columns]",
      "text/html": "<div>\n<style scoped>\n    .dataframe tbody tr th:only-of-type {\n        vertical-align: middle;\n    }\n\n    .dataframe tbody tr th {\n        vertical-align: top;\n    }\n\n    .dataframe thead th {\n        text-align: right;\n    }\n</style>\n<table border=\"1\" class=\"dataframe\">\n  <thead>\n    <tr style=\"text-align: right;\">\n      <th></th>\n      <th>date</th>\n      <th>country</th>\n      <th>confirmed</th>\n      <th>deaths</th>\n      <th>recovered</th>\n      <th>region</th>\n      <th>sub_region</th>\n    </tr>\n  </thead>\n  <tbody>\n    <tr>\n      <th>0</th>\n      <td>2020-01-22</td>\n      <td>Japan</td>\n      <td>2</td>\n      <td>0</td>\n      <td>0</td>\n      <td>Asia</td>\n      <td>Eastern Asia</td>\n    </tr>\n    <tr>\n      <th>1</th>\n      <td>2020-01-22</td>\n      <td>China</td>\n      <td>547</td>\n      <td>17</td>\n      <td>28</td>\n      <td>Asia</td>\n      <td>Eastern Asia</td>\n    </tr>\n    <tr>\n      <th>2</th>\n      <td>2020-01-22</td>\n      <td>Hong Kong</td>\n      <td>0</td>\n      <td>0</td>\n      <td>0</td>\n      <td>Asia</td>\n      <td>Eastern Asia</td>\n    </tr>\n    <tr>\n      <th>3</th>\n      <td>2020-01-22</td>\n      <td>Macau</td>\n      <td>1</td>\n      <td>0</td>\n      <td>0</td>\n      <td>Other</td>\n      <td>Other</td>\n    </tr>\n    <tr>\n      <th>4</th>\n      <td>2020-01-22</td>\n      <td>South Korea</td>\n      <td>1</td>\n      <td>0</td>\n      <td>0</td>\n      <td>Asia</td>\n      <td>Eastern Asia</td>\n    </tr>\n    <tr>\n      <th>...</th>\n      <td>...</td>\n      <td>...</td>\n      <td>...</td>\n      <td>...</td>\n      <td>...</td>\n      <td>...</td>\n      <td>...</td>\n    </tr>\n    <tr>\n      <th>95</th>\n      <td>2020-01-28</td>\n      <td>Hong Kong</td>\n      <td>8</td>\n      <td>0</td>\n      <td>0</td>\n      <td>Asia</td>\n      <td>Eastern Asia</td>\n    </tr>\n    <tr>\n      <th>96</th>\n      <td>2020-01-28</td>\n      <td>Kiribati</td>\n      <td>0</td>\n      <td>0</td>\n      <td>0</td>\n      <td>Oceania</td>\n      <td>Micronesia</td>\n    </tr>\n    <tr>\n      <th>97</th>\n      <td>2020-01-28</td>\n      <td>Singapore</td>\n      <td>7</td>\n      <td>0</td>\n      <td>0</td>\n      <td>Asia</td>\n      <td>South-eastern Asia</td>\n    </tr>\n    <tr>\n      <th>98</th>\n      <td>2020-01-28</td>\n      <td>Malaysia</td>\n      <td>4</td>\n      <td>0</td>\n      <td>0</td>\n      <td>Asia</td>\n      <td>South-eastern Asia</td>\n    </tr>\n    <tr>\n      <th>99</th>\n      <td>2020-01-28</td>\n      <td>Nepal</td>\n      <td>1</td>\n      <td>0</td>\n      <td>0</td>\n      <td>Asia</td>\n      <td>Southern Asia</td>\n    </tr>\n  </tbody>\n</table>\n<p>100 rows × 7 columns</p>\n</div>"
     },
     "execution_count": 27,
     "metadata": {},
     "output_type": "execute_result"
    }
   ],
   "source": [
    "groupped_data.head(100)"
   ],
   "metadata": {
    "collapsed": false,
    "pycharm": {
     "name": "#%%\n"
    }
   }
  },
  {
   "cell_type": "code",
   "execution_count": 28,
   "outputs": [
    {
     "data": {
      "text/plain": "86779"
     },
     "execution_count": 28,
     "metadata": {},
     "output_type": "execute_result"
    }
   ],
   "source": [
    "len(groupped_data.date == \"2020-01-22\")"
   ],
   "metadata": {
    "collapsed": false,
    "pycharm": {
     "name": "#%%\n"
    }
   }
  },
  {
   "cell_type": "code",
   "execution_count": 29,
   "outputs": [
    {
     "data": {
      "text/plain": "86779"
     },
     "execution_count": 29,
     "metadata": {},
     "output_type": "execute_result"
    }
   ],
   "source": [
    "len(groupped_data.date == \"2020-01-25\")"
   ],
   "metadata": {
    "collapsed": false,
    "pycharm": {
     "name": "#%%\n"
    }
   }
  },
  {
   "cell_type": "code",
   "execution_count": 30,
   "outputs": [
    {
     "data": {
      "text/plain": "date\n2020-01-22      9\n2020-01-23     17\n2020-01-24     12\n2020-01-25     15\n2020-01-26     16\n             ... \n2021-05-25    194\n2021-05-26    194\n2021-05-27    194\n2021-05-28    194\n2021-05-29    194\nLength: 494, dtype: int64"
     },
     "execution_count": 30,
     "metadata": {},
     "output_type": "execute_result"
    }
   ],
   "source": [
    "groupped_data.groupby('date').size()"
   ],
   "metadata": {
    "collapsed": false,
    "pycharm": {
     "name": "#%%\n"
    }
   }
  },
  {
   "cell_type": "code",
   "execution_count": 31,
   "outputs": [
    {
     "data": {
      "text/plain": "194"
     },
     "execution_count": 31,
     "metadata": {},
     "output_type": "execute_result"
    }
   ],
   "source": [
    "max(groupped_data.groupby('date').size())"
   ],
   "metadata": {
    "collapsed": false,
    "pycharm": {
     "name": "#%%\n"
    }
   }
  },
  {
   "cell_type": "code",
   "execution_count": 32,
   "outputs": [
    {
     "data": {
      "text/plain": "        date      country  confirmed  deaths  recovered region    sub_region\n0 2020-01-22        Japan          2       0          0   Asia  Eastern Asia\n1 2020-01-22        China        547      17         28   Asia  Eastern Asia\n2 2020-01-22    Hong Kong          0       0          0   Asia  Eastern Asia\n3 2020-01-22        Macau          1       0          0  Other         Other\n4 2020-01-22  South Korea          1       0          0   Asia  Eastern Asia",
      "text/html": "<div>\n<style scoped>\n    .dataframe tbody tr th:only-of-type {\n        vertical-align: middle;\n    }\n\n    .dataframe tbody tr th {\n        vertical-align: top;\n    }\n\n    .dataframe thead th {\n        text-align: right;\n    }\n</style>\n<table border=\"1\" class=\"dataframe\">\n  <thead>\n    <tr style=\"text-align: right;\">\n      <th></th>\n      <th>date</th>\n      <th>country</th>\n      <th>confirmed</th>\n      <th>deaths</th>\n      <th>recovered</th>\n      <th>region</th>\n      <th>sub_region</th>\n    </tr>\n  </thead>\n  <tbody>\n    <tr>\n      <th>0</th>\n      <td>2020-01-22</td>\n      <td>Japan</td>\n      <td>2</td>\n      <td>0</td>\n      <td>0</td>\n      <td>Asia</td>\n      <td>Eastern Asia</td>\n    </tr>\n    <tr>\n      <th>1</th>\n      <td>2020-01-22</td>\n      <td>China</td>\n      <td>547</td>\n      <td>17</td>\n      <td>28</td>\n      <td>Asia</td>\n      <td>Eastern Asia</td>\n    </tr>\n    <tr>\n      <th>2</th>\n      <td>2020-01-22</td>\n      <td>Hong Kong</td>\n      <td>0</td>\n      <td>0</td>\n      <td>0</td>\n      <td>Asia</td>\n      <td>Eastern Asia</td>\n    </tr>\n    <tr>\n      <th>3</th>\n      <td>2020-01-22</td>\n      <td>Macau</td>\n      <td>1</td>\n      <td>0</td>\n      <td>0</td>\n      <td>Other</td>\n      <td>Other</td>\n    </tr>\n    <tr>\n      <th>4</th>\n      <td>2020-01-22</td>\n      <td>South Korea</td>\n      <td>1</td>\n      <td>0</td>\n      <td>0</td>\n      <td>Asia</td>\n      <td>Eastern Asia</td>\n    </tr>\n  </tbody>\n</table>\n</div>"
     },
     "execution_count": 32,
     "metadata": {},
     "output_type": "execute_result"
    }
   ],
   "source": [
    "groupped_data.head()"
   ],
   "metadata": {
    "collapsed": false,
    "pycharm": {
     "name": "#%%\n"
    }
   }
  },
  {
   "cell_type": "code",
   "execution_count": 33,
   "outputs": [
    {
     "name": "stderr",
     "output_type": "stream",
     "text": [
      "100%|██████████| 494/494 [00:00<00:00, 1104.25it/s]\n"
     ]
    }
   ],
   "source": [
    "import numpy as np\n",
    "from tqdm import tqdm\n",
    "\n",
    "tmp = []\n",
    "existing_dates = set(groupped_data.date)\n",
    "existing_countries = set(groupped_data.country)\n",
    "for date in tqdm(existing_dates):\n",
    "    current_countries = set(groupped_data[groupped_data.date == date].country)\n",
    "    for country in existing_countries:\n",
    "        if country not in current_countries:\n",
    "            tmp.append([date, country, np.NaN, np.NaN, np.NaN,\n",
    "                                  mapping_to_region_lambda(country), mapping_to_sub_region_lambda(country)])"
   ],
   "metadata": {
    "collapsed": false,
    "pycharm": {
     "name": "#%%\n"
    }
   }
  },
  {
   "cell_type": "code",
   "execution_count": 34,
   "outputs": [
    {
     "data": {
      "text/plain": "221"
     },
     "execution_count": 34,
     "metadata": {},
     "output_type": "execute_result"
    }
   ],
   "source": [
    "len(existing_countries)"
   ],
   "metadata": {
    "collapsed": false,
    "pycharm": {
     "name": "#%%\n"
    }
   }
  },
  {
   "cell_type": "code",
   "execution_count": 35,
   "outputs": [],
   "source": [
    "filled_data = pd.concat([groupped_data, pd.DataFrame(tmp, columns=groupped_data.columns)], ignore_index=True)"
   ],
   "metadata": {
    "collapsed": false,
    "pycharm": {
     "name": "#%%\n"
    }
   }
  },
  {
   "cell_type": "code",
   "execution_count": 36,
   "outputs": [
    {
     "data": {
      "text/plain": "             date     country  confirmed  deaths  recovered    region  \\\n0      2020-01-22       Japan        2.0     0.0        0.0      Asia   \n104753 2020-01-22   Palestine        NaN     NaN        NaN     Other   \n104754 2020-01-22  Kyrgyzstan        NaN     NaN        NaN      Asia   \n104755 2020-01-22       Spain        NaN     NaN        NaN    Europe   \n104756 2020-01-22     Bahrain        NaN     NaN        NaN      Asia   \n...           ...         ...        ...     ...        ...       ...   \n86682  2021-05-29  Kyrgyzstan   104222.0  1797.0    98000.0      Asia   \n86681  2021-05-29    Dominica      188.0     0.0      182.0  Americas   \n86680  2021-05-29      Latvia   132918.0  2370.0   125340.0    Europe   \n86678  2021-05-29       Sudan    35289.0  2600.0    27949.0    Africa   \n86604  2021-05-29  Mozambique    70724.0   836.0    69499.0    Africa   \n\n                             sub_region  \n0                          Eastern Asia  \n104753                            Other  \n104754                     Central Asia  \n104755                  Southern Europe  \n104756                     Western Asia  \n...                                 ...  \n86682                      Central Asia  \n86681   Latin America and the Caribbean  \n86680                   Northern Europe  \n86678                   Northern Africa  \n86604                Sub-Saharan Africa  \n\n[109174 rows x 7 columns]",
      "text/html": "<div>\n<style scoped>\n    .dataframe tbody tr th:only-of-type {\n        vertical-align: middle;\n    }\n\n    .dataframe tbody tr th {\n        vertical-align: top;\n    }\n\n    .dataframe thead th {\n        text-align: right;\n    }\n</style>\n<table border=\"1\" class=\"dataframe\">\n  <thead>\n    <tr style=\"text-align: right;\">\n      <th></th>\n      <th>date</th>\n      <th>country</th>\n      <th>confirmed</th>\n      <th>deaths</th>\n      <th>recovered</th>\n      <th>region</th>\n      <th>sub_region</th>\n    </tr>\n  </thead>\n  <tbody>\n    <tr>\n      <th>0</th>\n      <td>2020-01-22</td>\n      <td>Japan</td>\n      <td>2.0</td>\n      <td>0.0</td>\n      <td>0.0</td>\n      <td>Asia</td>\n      <td>Eastern Asia</td>\n    </tr>\n    <tr>\n      <th>104753</th>\n      <td>2020-01-22</td>\n      <td>Palestine</td>\n      <td>NaN</td>\n      <td>NaN</td>\n      <td>NaN</td>\n      <td>Other</td>\n      <td>Other</td>\n    </tr>\n    <tr>\n      <th>104754</th>\n      <td>2020-01-22</td>\n      <td>Kyrgyzstan</td>\n      <td>NaN</td>\n      <td>NaN</td>\n      <td>NaN</td>\n      <td>Asia</td>\n      <td>Central Asia</td>\n    </tr>\n    <tr>\n      <th>104755</th>\n      <td>2020-01-22</td>\n      <td>Spain</td>\n      <td>NaN</td>\n      <td>NaN</td>\n      <td>NaN</td>\n      <td>Europe</td>\n      <td>Southern Europe</td>\n    </tr>\n    <tr>\n      <th>104756</th>\n      <td>2020-01-22</td>\n      <td>Bahrain</td>\n      <td>NaN</td>\n      <td>NaN</td>\n      <td>NaN</td>\n      <td>Asia</td>\n      <td>Western Asia</td>\n    </tr>\n    <tr>\n      <th>...</th>\n      <td>...</td>\n      <td>...</td>\n      <td>...</td>\n      <td>...</td>\n      <td>...</td>\n      <td>...</td>\n      <td>...</td>\n    </tr>\n    <tr>\n      <th>86682</th>\n      <td>2021-05-29</td>\n      <td>Kyrgyzstan</td>\n      <td>104222.0</td>\n      <td>1797.0</td>\n      <td>98000.0</td>\n      <td>Asia</td>\n      <td>Central Asia</td>\n    </tr>\n    <tr>\n      <th>86681</th>\n      <td>2021-05-29</td>\n      <td>Dominica</td>\n      <td>188.0</td>\n      <td>0.0</td>\n      <td>182.0</td>\n      <td>Americas</td>\n      <td>Latin America and the Caribbean</td>\n    </tr>\n    <tr>\n      <th>86680</th>\n      <td>2021-05-29</td>\n      <td>Latvia</td>\n      <td>132918.0</td>\n      <td>2370.0</td>\n      <td>125340.0</td>\n      <td>Europe</td>\n      <td>Northern Europe</td>\n    </tr>\n    <tr>\n      <th>86678</th>\n      <td>2021-05-29</td>\n      <td>Sudan</td>\n      <td>35289.0</td>\n      <td>2600.0</td>\n      <td>27949.0</td>\n      <td>Africa</td>\n      <td>Northern Africa</td>\n    </tr>\n    <tr>\n      <th>86604</th>\n      <td>2021-05-29</td>\n      <td>Mozambique</td>\n      <td>70724.0</td>\n      <td>836.0</td>\n      <td>69499.0</td>\n      <td>Africa</td>\n      <td>Sub-Saharan Africa</td>\n    </tr>\n  </tbody>\n</table>\n<p>109174 rows × 7 columns</p>\n</div>"
     },
     "execution_count": 36,
     "metadata": {},
     "output_type": "execute_result"
    }
   ],
   "source": [
    "filled_data.sort_values('date')"
   ],
   "metadata": {
    "collapsed": false,
    "pycharm": {
     "name": "#%%\n"
    }
   }
  },
  {
   "cell_type": "code",
   "execution_count": 37,
   "outputs": [
    {
     "data": {
      "text/plain": "date\n2020-01-22    221\n2020-01-23    221\n2020-01-24    221\n2020-01-25    221\n2020-01-26    221\n             ... \n2021-05-25    221\n2021-05-26    221\n2021-05-27    221\n2021-05-28    221\n2021-05-29    221\nLength: 494, dtype: int64"
     },
     "execution_count": 37,
     "metadata": {},
     "output_type": "execute_result"
    }
   ],
   "source": [
    "filled_data.groupby('date').size()"
   ],
   "metadata": {
    "collapsed": false,
    "pycharm": {
     "name": "#%%\n"
    }
   }
  },
  {
   "cell_type": "code",
   "execution_count": 38,
   "outputs": [],
   "source": [
    "filled_data = filled_data.sort_values('date')"
   ],
   "metadata": {
    "collapsed": false,
    "pycharm": {
     "name": "#%%\n"
    }
   }
  },
  {
   "cell_type": "code",
   "execution_count": 39,
   "outputs": [
    {
     "data": {
      "text/plain": "             date     country  confirmed  deaths  recovered    region  \\\n0      2020-01-22       Japan        2.0     0.0        0.0      Asia   \n1      2020-01-22   Palestine        NaN     NaN        NaN     Other   \n2      2020-01-22  Kyrgyzstan        NaN     NaN        NaN      Asia   \n3      2020-01-22       Spain        NaN     NaN        NaN    Europe   \n4      2020-01-22     Bahrain        NaN     NaN        NaN      Asia   \n...           ...         ...        ...     ...        ...       ...   \n109169 2021-05-29  Kyrgyzstan   104222.0  1797.0    98000.0      Asia   \n109170 2021-05-29    Dominica      188.0     0.0      182.0  Americas   \n109171 2021-05-29      Latvia   132918.0  2370.0   125340.0    Europe   \n109172 2021-05-29       Sudan    35289.0  2600.0    27949.0    Africa   \n109173 2021-05-29  Mozambique    70724.0   836.0    69499.0    Africa   \n\n                             sub_region  \n0                          Eastern Asia  \n1                                 Other  \n2                          Central Asia  \n3                       Southern Europe  \n4                          Western Asia  \n...                                 ...  \n109169                     Central Asia  \n109170  Latin America and the Caribbean  \n109171                  Northern Europe  \n109172                  Northern Africa  \n109173               Sub-Saharan Africa  \n\n[109174 rows x 7 columns]",
      "text/html": "<div>\n<style scoped>\n    .dataframe tbody tr th:only-of-type {\n        vertical-align: middle;\n    }\n\n    .dataframe tbody tr th {\n        vertical-align: top;\n    }\n\n    .dataframe thead th {\n        text-align: right;\n    }\n</style>\n<table border=\"1\" class=\"dataframe\">\n  <thead>\n    <tr style=\"text-align: right;\">\n      <th></th>\n      <th>date</th>\n      <th>country</th>\n      <th>confirmed</th>\n      <th>deaths</th>\n      <th>recovered</th>\n      <th>region</th>\n      <th>sub_region</th>\n    </tr>\n  </thead>\n  <tbody>\n    <tr>\n      <th>0</th>\n      <td>2020-01-22</td>\n      <td>Japan</td>\n      <td>2.0</td>\n      <td>0.0</td>\n      <td>0.0</td>\n      <td>Asia</td>\n      <td>Eastern Asia</td>\n    </tr>\n    <tr>\n      <th>1</th>\n      <td>2020-01-22</td>\n      <td>Palestine</td>\n      <td>NaN</td>\n      <td>NaN</td>\n      <td>NaN</td>\n      <td>Other</td>\n      <td>Other</td>\n    </tr>\n    <tr>\n      <th>2</th>\n      <td>2020-01-22</td>\n      <td>Kyrgyzstan</td>\n      <td>NaN</td>\n      <td>NaN</td>\n      <td>NaN</td>\n      <td>Asia</td>\n      <td>Central Asia</td>\n    </tr>\n    <tr>\n      <th>3</th>\n      <td>2020-01-22</td>\n      <td>Spain</td>\n      <td>NaN</td>\n      <td>NaN</td>\n      <td>NaN</td>\n      <td>Europe</td>\n      <td>Southern Europe</td>\n    </tr>\n    <tr>\n      <th>4</th>\n      <td>2020-01-22</td>\n      <td>Bahrain</td>\n      <td>NaN</td>\n      <td>NaN</td>\n      <td>NaN</td>\n      <td>Asia</td>\n      <td>Western Asia</td>\n    </tr>\n    <tr>\n      <th>...</th>\n      <td>...</td>\n      <td>...</td>\n      <td>...</td>\n      <td>...</td>\n      <td>...</td>\n      <td>...</td>\n      <td>...</td>\n    </tr>\n    <tr>\n      <th>109169</th>\n      <td>2021-05-29</td>\n      <td>Kyrgyzstan</td>\n      <td>104222.0</td>\n      <td>1797.0</td>\n      <td>98000.0</td>\n      <td>Asia</td>\n      <td>Central Asia</td>\n    </tr>\n    <tr>\n      <th>109170</th>\n      <td>2021-05-29</td>\n      <td>Dominica</td>\n      <td>188.0</td>\n      <td>0.0</td>\n      <td>182.0</td>\n      <td>Americas</td>\n      <td>Latin America and the Caribbean</td>\n    </tr>\n    <tr>\n      <th>109171</th>\n      <td>2021-05-29</td>\n      <td>Latvia</td>\n      <td>132918.0</td>\n      <td>2370.0</td>\n      <td>125340.0</td>\n      <td>Europe</td>\n      <td>Northern Europe</td>\n    </tr>\n    <tr>\n      <th>109172</th>\n      <td>2021-05-29</td>\n      <td>Sudan</td>\n      <td>35289.0</td>\n      <td>2600.0</td>\n      <td>27949.0</td>\n      <td>Africa</td>\n      <td>Northern Africa</td>\n    </tr>\n    <tr>\n      <th>109173</th>\n      <td>2021-05-29</td>\n      <td>Mozambique</td>\n      <td>70724.0</td>\n      <td>836.0</td>\n      <td>69499.0</td>\n      <td>Africa</td>\n      <td>Sub-Saharan Africa</td>\n    </tr>\n  </tbody>\n</table>\n<p>109174 rows × 7 columns</p>\n</div>"
     },
     "execution_count": 39,
     "metadata": {},
     "output_type": "execute_result"
    }
   ],
   "source": [
    "filled_data = filled_data.reset_index(drop=True)\n",
    "filled_data"
   ],
   "metadata": {
    "collapsed": false,
    "pycharm": {
     "name": "#%%\n"
    }
   }
  },
  {
   "cell_type": "code",
   "execution_count": 40,
   "outputs": [
    {
     "name": "stderr",
     "output_type": "stream",
     "text": [
      "C:\\Users\\pogre\\AppData\\Local\\Temp\\ipykernel_11156\\815938179.py:3: SettingWithCopyWarning: \n",
      "A value is trying to be set on a copy of a slice from a DataFrame\n",
      "\n",
      "See the caveats in the documentation: https://pandas.pydata.org/pandas-docs/stable/user_guide/indexing.html#returning-a-view-versus-a-copy\n",
      "  country_subsample.confirmed.interpolate(limit_direction=\"forward\", inplace=True)\n",
      "C:\\Users\\pogre\\AppData\\Local\\Temp\\ipykernel_11156\\815938179.py:4: SettingWithCopyWarning: \n",
      "A value is trying to be set on a copy of a slice from a DataFrame\n",
      "\n",
      "See the caveats in the documentation: https://pandas.pydata.org/pandas-docs/stable/user_guide/indexing.html#returning-a-view-versus-a-copy\n",
      "  country_subsample.deaths.interpolate(limit_direction=\"forward\", inplace=True)\n",
      "C:\\Users\\pogre\\AppData\\Local\\Temp\\ipykernel_11156\\815938179.py:5: SettingWithCopyWarning: \n",
      "A value is trying to be set on a copy of a slice from a DataFrame\n",
      "\n",
      "See the caveats in the documentation: https://pandas.pydata.org/pandas-docs/stable/user_guide/indexing.html#returning-a-view-versus-a-copy\n",
      "  country_subsample.recovered.interpolate(limit_direction=\"forward\", inplace=True)\n"
     ]
    }
   ],
   "source": [
    "for country in existing_countries:\n",
    "    country_subsample = filled_data[filled_data.country == country]\n",
    "    country_subsample.confirmed.interpolate(limit_direction=\"forward\", inplace=True)\n",
    "    country_subsample.deaths.interpolate(limit_direction=\"forward\", inplace=True)\n",
    "    country_subsample.recovered.interpolate(limit_direction=\"forward\", inplace=True)"
   ],
   "metadata": {
    "collapsed": false,
    "pycharm": {
     "name": "#%%\n"
    }
   }
  },
  {
   "cell_type": "code",
   "execution_count": 41,
   "outputs": [
    {
     "data": {
      "text/plain": "             date     country  confirmed  deaths  recovered    region  \\\n0      2020-01-22       Japan        2.0     0.0        0.0      Asia   \n1      2020-01-22   Palestine        NaN     NaN        NaN     Other   \n2      2020-01-22  Kyrgyzstan        NaN     NaN        NaN      Asia   \n3      2020-01-22       Spain        NaN     NaN        NaN    Europe   \n4      2020-01-22     Bahrain        NaN     NaN        NaN      Asia   \n...           ...         ...        ...     ...        ...       ...   \n109169 2021-05-29  Kyrgyzstan   104222.0  1797.0    98000.0      Asia   \n109170 2021-05-29    Dominica      188.0     0.0      182.0  Americas   \n109171 2021-05-29      Latvia   132918.0  2370.0   125340.0    Europe   \n109172 2021-05-29       Sudan    35289.0  2600.0    27949.0    Africa   \n109173 2021-05-29  Mozambique    70724.0   836.0    69499.0    Africa   \n\n                             sub_region  \n0                          Eastern Asia  \n1                                 Other  \n2                          Central Asia  \n3                       Southern Europe  \n4                          Western Asia  \n...                                 ...  \n109169                     Central Asia  \n109170  Latin America and the Caribbean  \n109171                  Northern Europe  \n109172                  Northern Africa  \n109173               Sub-Saharan Africa  \n\n[109174 rows x 7 columns]",
      "text/html": "<div>\n<style scoped>\n    .dataframe tbody tr th:only-of-type {\n        vertical-align: middle;\n    }\n\n    .dataframe tbody tr th {\n        vertical-align: top;\n    }\n\n    .dataframe thead th {\n        text-align: right;\n    }\n</style>\n<table border=\"1\" class=\"dataframe\">\n  <thead>\n    <tr style=\"text-align: right;\">\n      <th></th>\n      <th>date</th>\n      <th>country</th>\n      <th>confirmed</th>\n      <th>deaths</th>\n      <th>recovered</th>\n      <th>region</th>\n      <th>sub_region</th>\n    </tr>\n  </thead>\n  <tbody>\n    <tr>\n      <th>0</th>\n      <td>2020-01-22</td>\n      <td>Japan</td>\n      <td>2.0</td>\n      <td>0.0</td>\n      <td>0.0</td>\n      <td>Asia</td>\n      <td>Eastern Asia</td>\n    </tr>\n    <tr>\n      <th>1</th>\n      <td>2020-01-22</td>\n      <td>Palestine</td>\n      <td>NaN</td>\n      <td>NaN</td>\n      <td>NaN</td>\n      <td>Other</td>\n      <td>Other</td>\n    </tr>\n    <tr>\n      <th>2</th>\n      <td>2020-01-22</td>\n      <td>Kyrgyzstan</td>\n      <td>NaN</td>\n      <td>NaN</td>\n      <td>NaN</td>\n      <td>Asia</td>\n      <td>Central Asia</td>\n    </tr>\n    <tr>\n      <th>3</th>\n      <td>2020-01-22</td>\n      <td>Spain</td>\n      <td>NaN</td>\n      <td>NaN</td>\n      <td>NaN</td>\n      <td>Europe</td>\n      <td>Southern Europe</td>\n    </tr>\n    <tr>\n      <th>4</th>\n      <td>2020-01-22</td>\n      <td>Bahrain</td>\n      <td>NaN</td>\n      <td>NaN</td>\n      <td>NaN</td>\n      <td>Asia</td>\n      <td>Western Asia</td>\n    </tr>\n    <tr>\n      <th>...</th>\n      <td>...</td>\n      <td>...</td>\n      <td>...</td>\n      <td>...</td>\n      <td>...</td>\n      <td>...</td>\n      <td>...</td>\n    </tr>\n    <tr>\n      <th>109169</th>\n      <td>2021-05-29</td>\n      <td>Kyrgyzstan</td>\n      <td>104222.0</td>\n      <td>1797.0</td>\n      <td>98000.0</td>\n      <td>Asia</td>\n      <td>Central Asia</td>\n    </tr>\n    <tr>\n      <th>109170</th>\n      <td>2021-05-29</td>\n      <td>Dominica</td>\n      <td>188.0</td>\n      <td>0.0</td>\n      <td>182.0</td>\n      <td>Americas</td>\n      <td>Latin America and the Caribbean</td>\n    </tr>\n    <tr>\n      <th>109171</th>\n      <td>2021-05-29</td>\n      <td>Latvia</td>\n      <td>132918.0</td>\n      <td>2370.0</td>\n      <td>125340.0</td>\n      <td>Europe</td>\n      <td>Northern Europe</td>\n    </tr>\n    <tr>\n      <th>109172</th>\n      <td>2021-05-29</td>\n      <td>Sudan</td>\n      <td>35289.0</td>\n      <td>2600.0</td>\n      <td>27949.0</td>\n      <td>Africa</td>\n      <td>Northern Africa</td>\n    </tr>\n    <tr>\n      <th>109173</th>\n      <td>2021-05-29</td>\n      <td>Mozambique</td>\n      <td>70724.0</td>\n      <td>836.0</td>\n      <td>69499.0</td>\n      <td>Africa</td>\n      <td>Sub-Saharan Africa</td>\n    </tr>\n  </tbody>\n</table>\n<p>109174 rows × 7 columns</p>\n</div>"
     },
     "execution_count": 41,
     "metadata": {},
     "output_type": "execute_result"
    }
   ],
   "source": [
    "filled_data"
   ],
   "metadata": {
    "collapsed": false,
    "pycharm": {
     "name": "#%%\n"
    }
   }
  },
  {
   "cell_type": "code",
   "execution_count": 42,
   "outputs": [
    {
     "data": {
      "text/plain": "             date     country  confirmed  deaths  recovered    region  \\\n0      2020-01-22       Japan        2.0     0.0        0.0      Asia   \n1      2020-01-22   Palestine        0.0     0.0        0.0     Other   \n2      2020-01-22  Kyrgyzstan        0.0     0.0        0.0      Asia   \n3      2020-01-22       Spain        0.0     0.0        0.0    Europe   \n4      2020-01-22     Bahrain        0.0     0.0        0.0      Asia   \n...           ...         ...        ...     ...        ...       ...   \n109169 2021-05-29  Kyrgyzstan   104222.0  1797.0    98000.0      Asia   \n109170 2021-05-29    Dominica      188.0     0.0      182.0  Americas   \n109171 2021-05-29      Latvia   132918.0  2370.0   125340.0    Europe   \n109172 2021-05-29       Sudan    35289.0  2600.0    27949.0    Africa   \n109173 2021-05-29  Mozambique    70724.0   836.0    69499.0    Africa   \n\n                             sub_region  \n0                          Eastern Asia  \n1                                 Other  \n2                          Central Asia  \n3                       Southern Europe  \n4                          Western Asia  \n...                                 ...  \n109169                     Central Asia  \n109170  Latin America and the Caribbean  \n109171                  Northern Europe  \n109172                  Northern Africa  \n109173               Sub-Saharan Africa  \n\n[109174 rows x 7 columns]",
      "text/html": "<div>\n<style scoped>\n    .dataframe tbody tr th:only-of-type {\n        vertical-align: middle;\n    }\n\n    .dataframe tbody tr th {\n        vertical-align: top;\n    }\n\n    .dataframe thead th {\n        text-align: right;\n    }\n</style>\n<table border=\"1\" class=\"dataframe\">\n  <thead>\n    <tr style=\"text-align: right;\">\n      <th></th>\n      <th>date</th>\n      <th>country</th>\n      <th>confirmed</th>\n      <th>deaths</th>\n      <th>recovered</th>\n      <th>region</th>\n      <th>sub_region</th>\n    </tr>\n  </thead>\n  <tbody>\n    <tr>\n      <th>0</th>\n      <td>2020-01-22</td>\n      <td>Japan</td>\n      <td>2.0</td>\n      <td>0.0</td>\n      <td>0.0</td>\n      <td>Asia</td>\n      <td>Eastern Asia</td>\n    </tr>\n    <tr>\n      <th>1</th>\n      <td>2020-01-22</td>\n      <td>Palestine</td>\n      <td>0.0</td>\n      <td>0.0</td>\n      <td>0.0</td>\n      <td>Other</td>\n      <td>Other</td>\n    </tr>\n    <tr>\n      <th>2</th>\n      <td>2020-01-22</td>\n      <td>Kyrgyzstan</td>\n      <td>0.0</td>\n      <td>0.0</td>\n      <td>0.0</td>\n      <td>Asia</td>\n      <td>Central Asia</td>\n    </tr>\n    <tr>\n      <th>3</th>\n      <td>2020-01-22</td>\n      <td>Spain</td>\n      <td>0.0</td>\n      <td>0.0</td>\n      <td>0.0</td>\n      <td>Europe</td>\n      <td>Southern Europe</td>\n    </tr>\n    <tr>\n      <th>4</th>\n      <td>2020-01-22</td>\n      <td>Bahrain</td>\n      <td>0.0</td>\n      <td>0.0</td>\n      <td>0.0</td>\n      <td>Asia</td>\n      <td>Western Asia</td>\n    </tr>\n    <tr>\n      <th>...</th>\n      <td>...</td>\n      <td>...</td>\n      <td>...</td>\n      <td>...</td>\n      <td>...</td>\n      <td>...</td>\n      <td>...</td>\n    </tr>\n    <tr>\n      <th>109169</th>\n      <td>2021-05-29</td>\n      <td>Kyrgyzstan</td>\n      <td>104222.0</td>\n      <td>1797.0</td>\n      <td>98000.0</td>\n      <td>Asia</td>\n      <td>Central Asia</td>\n    </tr>\n    <tr>\n      <th>109170</th>\n      <td>2021-05-29</td>\n      <td>Dominica</td>\n      <td>188.0</td>\n      <td>0.0</td>\n      <td>182.0</td>\n      <td>Americas</td>\n      <td>Latin America and the Caribbean</td>\n    </tr>\n    <tr>\n      <th>109171</th>\n      <td>2021-05-29</td>\n      <td>Latvia</td>\n      <td>132918.0</td>\n      <td>2370.0</td>\n      <td>125340.0</td>\n      <td>Europe</td>\n      <td>Northern Europe</td>\n    </tr>\n    <tr>\n      <th>109172</th>\n      <td>2021-05-29</td>\n      <td>Sudan</td>\n      <td>35289.0</td>\n      <td>2600.0</td>\n      <td>27949.0</td>\n      <td>Africa</td>\n      <td>Northern Africa</td>\n    </tr>\n    <tr>\n      <th>109173</th>\n      <td>2021-05-29</td>\n      <td>Mozambique</td>\n      <td>70724.0</td>\n      <td>836.0</td>\n      <td>69499.0</td>\n      <td>Africa</td>\n      <td>Sub-Saharan Africa</td>\n    </tr>\n  </tbody>\n</table>\n<p>109174 rows × 7 columns</p>\n</div>"
     },
     "execution_count": 42,
     "metadata": {},
     "output_type": "execute_result"
    }
   ],
   "source": [
    "full_data = filled_data.fillna(0)\n",
    "full_data"
   ],
   "metadata": {
    "collapsed": false,
    "pycharm": {
     "name": "#%%\n"
    }
   }
  },
  {
   "cell_type": "code",
   "execution_count": 43,
   "outputs": [],
   "source": [
    "full_data = full_data.sort_values(['date', 'country']).reset_index(drop=True)"
   ],
   "metadata": {
    "collapsed": false,
    "pycharm": {
     "name": "#%%\n"
    }
   }
  },
  {
   "cell_type": "code",
   "execution_count": 44,
   "outputs": [
    {
     "data": {
      "text/plain": "<AxesSubplot:>"
     },
     "execution_count": 44,
     "metadata": {},
     "output_type": "execute_result"
    },
    {
     "data": {
      "text/plain": "<Figure size 432x288 with 1 Axes>",
      "image/png": "[encoded data removed]"
     },
     "metadata": {
      "needs_background": "light"
     },
     "output_type": "display_data"
    }
   ],
   "source": [
    "import matplotlib.pyplot as plt\n",
    "\n",
    "full_data[full_data.country == 'China'].deaths.plot()"
   ],
   "metadata": {
    "collapsed": false,
    "pycharm": {
     "name": "#%%\n"
    }
   }
  },
  {
   "cell_type": "code",
   "execution_count": 45,
   "outputs": [
    {
     "data": {
      "text/plain": "40          17.0\n261         34.0\n482         26.0\n703         42.0\n924         56.0\n           ...  \n108109    4636.0\n108330    4636.0\n108551    4636.0\n108772    4636.0\n108993    4636.0\nName: deaths, Length: 494, dtype: float64"
     },
     "execution_count": 45,
     "metadata": {},
     "output_type": "execute_result"
    }
   ],
   "source": [
    "full_data[full_data.country == 'China'].deaths"
   ],
   "metadata": {
    "collapsed": false,
    "pycharm": {
     "name": "#%%\n"
    }
   }
  },
  {
   "cell_type": "code",
   "execution_count": 46,
   "outputs": [
    {
     "data": {
      "text/plain": "             date                         country  confirmed  deaths  \\\n0      2020-01-22                     Afghanistan          0       0   \n1      2020-01-22                         Albania          0       0   \n2      2020-01-22                         Algeria          0       0   \n3      2020-01-22                         Andorra          0       0   \n4      2020-01-22                          Angola          0       0   \n...           ...                             ...        ...     ...   \n109169 2021-05-29              West Bank and Gaza     307838    3492   \n109170 2021-05-29                           Yemen       6731    1319   \n109171 2021-05-29                          Zambia      94751    1276   \n109172 2021-05-29                        Zimbabwe      38933    1594   \n109173 2021-05-29  occupied Palestinian territory          0       0   \n\n        recovered  region          sub_region  \n0               0    Asia       Southern Asia  \n1               0  Europe     Southern Europe  \n2               0  Africa     Northern Africa  \n3               0  Europe     Southern Europe  \n4               0  Africa  Sub-Saharan Africa  \n...           ...     ...                 ...  \n109169     300524   Other               Other  \n109170       3399    Asia        Western Asia  \n109171      91594  Africa  Sub-Saharan Africa  \n109172      36578  Africa  Sub-Saharan Africa  \n109173          0   Other               Other  \n\n[109174 rows x 7 columns]",
      "text/html": "<div>\n<style scoped>\n    .dataframe tbody tr th:only-of-type {\n        vertical-align: middle;\n    }\n\n    .dataframe tbody tr th {\n        vertical-align: top;\n    }\n\n    .dataframe thead th {\n        text-align: right;\n    }\n</style>\n<table border=\"1\" class=\"dataframe\">\n  <thead>\n    <tr style=\"text-align: right;\">\n      <th></th>\n      <th>date</th>\n      <th>country</th>\n      <th>confirmed</th>\n      <th>deaths</th>\n      <th>recovered</th>\n      <th>region</th>\n      <th>sub_region</th>\n    </tr>\n  </thead>\n  <tbody>\n    <tr>\n      <th>0</th>\n      <td>2020-01-22</td>\n      <td>Afghanistan</td>\n      <td>0</td>\n      <td>0</td>\n      <td>0</td>\n      <td>Asia</td>\n      <td>Southern Asia</td>\n    </tr>\n    <tr>\n      <th>1</th>\n      <td>2020-01-22</td>\n      <td>Albania</td>\n      <td>0</td>\n      <td>0</td>\n      <td>0</td>\n      <td>Europe</td>\n      <td>Southern Europe</td>\n    </tr>\n    <tr>\n      <th>2</th>\n      <td>2020-01-22</td>\n      <td>Algeria</td>\n      <td>0</td>\n      <td>0</td>\n      <td>0</td>\n      <td>Africa</td>\n      <td>Northern Africa</td>\n    </tr>\n    <tr>\n      <th>3</th>\n      <td>2020-01-22</td>\n      <td>Andorra</td>\n      <td>0</td>\n      <td>0</td>\n      <td>0</td>\n      <td>Europe</td>\n      <td>Southern Europe</td>\n    </tr>\n    <tr>\n      <th>4</th>\n      <td>2020-01-22</td>\n      <td>Angola</td>\n      <td>0</td>\n      <td>0</td>\n      <td>0</td>\n      <td>Africa</td>\n      <td>Sub-Saharan Africa</td>\n    </tr>\n    <tr>\n      <th>...</th>\n      <td>...</td>\n      <td>...</td>\n      <td>...</td>\n      <td>...</td>\n      <td>...</td>\n      <td>...</td>\n      <td>...</td>\n    </tr>\n    <tr>\n      <th>109169</th>\n      <td>2021-05-29</td>\n      <td>West Bank and Gaza</td>\n      <td>307838</td>\n      <td>3492</td>\n      <td>300524</td>\n      <td>Other</td>\n      <td>Other</td>\n    </tr>\n    <tr>\n      <th>109170</th>\n      <td>2021-05-29</td>\n      <td>Yemen</td>\n      <td>6731</td>\n      <td>1319</td>\n      <td>3399</td>\n      <td>Asia</td>\n      <td>Western Asia</td>\n    </tr>\n    <tr>\n      <th>109171</th>\n      <td>2021-05-29</td>\n      <td>Zambia</td>\n      <td>94751</td>\n      <td>1276</td>\n      <td>91594</td>\n      <td>Africa</td>\n      <td>Sub-Saharan Africa</td>\n    </tr>\n    <tr>\n      <th>109172</th>\n      <td>2021-05-29</td>\n      <td>Zimbabwe</td>\n      <td>38933</td>\n      <td>1594</td>\n      <td>36578</td>\n      <td>Africa</td>\n      <td>Sub-Saharan Africa</td>\n    </tr>\n    <tr>\n      <th>109173</th>\n      <td>2021-05-29</td>\n      <td>occupied Palestinian territory</td>\n      <td>0</td>\n      <td>0</td>\n      <td>0</td>\n      <td>Other</td>\n      <td>Other</td>\n    </tr>\n  </tbody>\n</table>\n<p>109174 rows × 7 columns</p>\n</div>"
     },
     "execution_count": 46,
     "metadata": {},
     "output_type": "execute_result"
    }
   ],
   "source": [
    "full_data.confirmed = full_data.confirmed.astype(int)\n",
    "full_data.deaths = full_data.deaths.astype(int)\n",
    "full_data.recovered = full_data.recovered.astype(int)\n",
    "full_data"
   ],
   "metadata": {
    "collapsed": false,
    "pycharm": {
     "name": "#%%\n"
    }
   }
  },
  {
   "cell_type": "code",
   "execution_count": 47,
   "outputs": [],
   "source": [
    "full_data.to_csv(\"augmented_covid_19.csv\", index=None)"
   ],
   "metadata": {
    "collapsed": false,
    "pycharm": {
     "name": "#%%\n"
    }
   }
  },
  {
   "cell_type": "code",
   "execution_count": 47,
   "outputs": [],
   "source": [],
   "metadata": {
    "collapsed": false,
    "pycharm": {
     "name": "#%%\n"
    }
   }
  }
 ],
 "metadata": {
  "kernelspec": {
   "display_name": "Python 3",
   "language": "python",
   "name": "python3"
  },
  "language_info": {
   "codemirror_mode": {
    "name": "ipython",
    "version": 2
   },
   "file_extension": ".py",
   "mimetype": "text/x-python",
   "name": "python",
   "nbconvert_exporter": "python",
   "pygments_lexer": "ipython2",
   "version": "2.7.6"
  }
 },
 "nbformat": 4,
 "nbformat_minor": 0
}